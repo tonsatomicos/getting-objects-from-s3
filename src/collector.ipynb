{
 "cells": [
  {
   "cell_type": "markdown",
   "metadata": {},
   "source": [
    "### Importing Libraries"
   ]
  },
  {
   "cell_type": "code",
   "execution_count": 61,
   "metadata": {},
   "outputs": [],
   "source": [
    "import boto3\n",
    "import botocore.session\n",
    "import os\n",
    "\n",
    "from dotenv import load_dotenv\n",
    "from pathlib import Path"
   ]
  },
  {
   "cell_type": "markdown",
   "metadata": {},
   "source": [
    "### Collector"
   ]
  },
  {
   "cell_type": "code",
   "execution_count": 68,
   "metadata": {},
   "outputs": [],
   "source": [
    "class Collector:\n",
    "    def __init__(self, aws_access_key_id, aws_secret_access_key):\n",
    "        self.aws_access_key_id = aws_access_key_id\n",
    "        self.aws_secret_access_key= aws_secret_access_key\n",
    "        self.client = None\n",
    "\n",
    "    def get_session(self):\n",
    "        try:\n",
    "            session = botocore.session.get_session()\n",
    "            self.client = session.create_client(\n",
    "                's3', \n",
    "                region_name='us-east-2', \n",
    "                aws_access_key_id= self.aws_access_key_id, \n",
    "                aws_secret_access_key= self.aws_secret_access_key\n",
    "            )\n",
    "\n",
    "        except Exception as e:\n",
    "            print(f'Failed to connection: {e}')\n",
    "\n",
    "    def get_object(self, bucket_name, path_to_search, local_base_path):\n",
    "        if not self.client:\n",
    "            return\n",
    "        \n",
    "        try:\n",
    "            response = self.client.list_objects_v2(Bucket=bucket_name, Prefix=path_to_search)\n",
    "\n",
    "            if 'Contents' in response:\n",
    "                for s3_object in response['Contents']:\n",
    "                    filename = s3_object['Key']\n",
    "                    local_file_path = Path(Path(local_base_path, 'raw'), os.path.basename(filename))\n",
    "                    processed_folder =  Path(Path(local_base_path, 'processed'), os.path.basename(filename))\n",
    "\n",
    "                    if not processed_folder.is_file():\n",
    "                        try:\n",
    "                            response = self.client.get_object(Bucket=bucket_name, Key=filename)\n",
    "\n",
    "                            with open(local_file_path, 'wb') as local_file:\n",
    "                                local_file.write(response['Body'].read())\n",
    "                                \n",
    "                            self.client.delete_object(Bucket=bucket_name, Key=filename)\n",
    "                            print(f'Downloaded file: {filename}')\n",
    "\n",
    "                        except Exception as e:\n",
    "                            print(f'Error when downloading file {filename}: {e}')\n",
    "\n",
    "                    if processed_folder.is_file():\n",
    "                        self.client.delete_object(Bucket=bucket_name, Key=filename)\n",
    "                        print(f'File {filename} already exists in the processing folder, deleting')\n",
    "            else:\n",
    "                print('No objects were found.')\n",
    "\n",
    "        except Exception as e:\n",
    "            print(f'Failed to list objects: {e}')\n",
    "\n",
    "        finally:\n",
    "            if self.client is not None:\n",
    "                self.client.close()\n",
    "                self.client = None"
   ]
  },
  {
   "cell_type": "markdown",
   "metadata": {},
   "source": [
    "### Orchestrator"
   ]
  },
  {
   "cell_type": "code",
   "execution_count": 69,
   "metadata": {},
   "outputs": [],
   "source": [
    "def main():\n",
    "    # Env\n",
    "    dotenv_path = 'C://Tecnology//Projects//getting-objects-from-s3//config//.env'\n",
    "    load_dotenv(dotenv_path)\n",
    "    \n",
    "    # Collector class configs\n",
    "    bucket_name = 'projeto-github-teste'\n",
    "    path_to_search = 'arquivos_random/random'\n",
    "    local_base_path = 'C://Tecnology//Projects//getting-objects-from-s3//data'\n",
    "    aws_access_key_id = os.getenv(\"aws_access_key_id\")\n",
    "    aws_secret_access_key = os.getenv(\"aws_secret_access_key\")\n",
    "\n",
    "    obj_collector = Collector(aws_access_key_id, aws_secret_access_key)\n",
    "    obj_collector.get_session()\n",
    "\n",
    "    if obj_collector.client:\n",
    "        obj_collector.get_object(bucket_name, path_to_search, local_base_path)\n"
   ]
  },
  {
   "cell_type": "code",
   "execution_count": 70,
   "metadata": {},
   "outputs": [
    {
     "name": "stdout",
     "output_type": "stream",
     "text": [
      "Downloaded file: arquivos_random/random_1.csv\n",
      "Downloaded file: arquivos_random/random_2.csv\n"
     ]
    }
   ],
   "source": [
    "if __name__ == \"__main__\":\n",
    "    main()"
   ]
  }
 ],
 "metadata": {
  "kernelspec": {
   "display_name": ".venv",
   "language": "python",
   "name": "python3"
  },
  "language_info": {
   "codemirror_mode": {
    "name": "ipython",
    "version": 3
   },
   "file_extension": ".py",
   "mimetype": "text/x-python",
   "name": "python",
   "nbconvert_exporter": "python",
   "pygments_lexer": "ipython3",
   "version": "3.12.1"
  }
 },
 "nbformat": 4,
 "nbformat_minor": 2
}
